{
 "cells": [
  {
   "cell_type": "code",
   "execution_count": 1,
   "id": "416f1b2a",
   "metadata": {},
   "outputs": [],
   "source": [
    "# Importing Dependencies\n",
    "import random\n",
    "import math\n",
    "import pandas as pd\n",
    "import numpy as np\n",
    "import matplotlib.pyplot as plt\n",
    "import ipywidgets as widgets\n",
    "\n",
    "%config InlineBackend.figure_format = 'retina'"
   ]
  },
  {
   "cell_type": "code",
   "execution_count": 2,
   "id": "0f7afcca",
   "metadata": {},
   "outputs": [],
   "source": [
    "# Function to create population distribution\n",
    "def population_dist(example, population_size, plot_needed):\n",
    "    \"\"\"\n",
    "    This function takes a string as input. The string specifies one of the real\n",
    "    life examples used to explain the Central Limit Theorem, and it creates a\n",
    "    population distribution corresponding to that example. We have used real\n",
    "    world examples for uniform distribution, Poisson distribution and\n",
    "    Exponential distributions\n",
    "    \"\"\"\n",
    "    \n",
    "    # Uniform Distribution\n",
    "    if example.lower() == 'rolling a die (uniform)':\n",
    "        dist_name = 'Uniform'\n",
    "        dist_type = 'discrete'\n",
    "        bins = [1, 2, 3, 4, 5, 6, 7]\n",
    "        pop = np.random.randint(1, 7, population_size)\n",
    "\n",
    "    # Poisson Distribution\n",
    "    if example.lower() == 'number of goals per game in a world cup (poisson)':\n",
    "        dist_name = 'Poisson'\n",
    "        dist_type = 'discrete'\n",
    "        bins = range(25)\n",
    "        pop = np.random.poisson(2, population_size)\n",
    "\n",
    "    # Binomial Distribution\n",
    "    if example.lower() == 'number of heads in 100 coin tosses (binomial)':\n",
    "        dist_name = 'Binomial'\n",
    "        dist_type = 'discrete'\n",
    "        bins = range(100)\n",
    "        pop = np.random.binomial(100, 0.5, population_size)\n",
    "\n",
    "    # Normal Distribution\n",
    "    if example.lower() == 'height of adult men in the us (normal)':\n",
    "        dist_name = 'Normal'\n",
    "        dist_type = 'continuous'\n",
    "        bins = np.arange(50, 90, 0.5)\n",
    "        pop = np.random.normal(70, 3, population_size)\n",
    "\n",
    "    # Show the plot only when plot_needed = True\n",
    "    if plot_needed:\n",
    "        plotter(pop, dist_name, bins, dist_type)\n",
    "\n",
    "    return pop"
   ]
  },
  {
   "cell_type": "code",
   "execution_count": 3,
   "id": "753712c6",
   "metadata": {},
   "outputs": [],
   "source": [
    "# Creating sampling distribution for the given population distribution\n",
    "def Sampling_dist(population, sample_size, n_samples):\n",
    "    \"\"\"\n",
    "    This function creates n_samples number of random sample distributions.\n",
    "    Each sample distribution is of size = sample_size. Samples are taken\n",
    "    from the given population distribution. Then sample mean is calculated\n",
    "    for each sample and stored for plotting\n",
    "    \"\"\"\n",
    "    \n",
    "    means = np.zeros(n_samples)  # Initiation array to store sample means\n",
    "\n",
    "    # Generating n_sample number of samples\n",
    "    for i in range(n_samples):\n",
    "        lst = np.random.choice(population, sample_size)\n",
    "        means[i] = np.mean(lst)\n",
    "\n",
    "    bins = np.linspace(min(means), max(means), 100)\n",
    "\n",
    "    # ploting the sample mean distribution\n",
    "    plotter(means, 'Sampling', bins, 'continuous')"
   ]
  },
  {
   "cell_type": "code",
   "execution_count": 4,
   "id": "6a505882",
   "metadata": {},
   "outputs": [],
   "source": [
    "# Plot the given distribution\n",
    "def plotter(dist, dist_name, bins, dist_type):\n",
    "    '''\n",
    "    Given any distribution array, this function plots the histogram\n",
    "    or bar chart for the distribution depending on whether the\n",
    "    distribution is discrete of continuous.\n",
    "    '''\n",
    "\n",
    "    fig, ax = plt.subplots(figsize=(10, 8))\n",
    "\n",
    "    # Bar plot for discrete distribution\n",
    "    if dist_type.lower() == 'discrete':\n",
    "        freq, _ = np.histogram(dist, bins=bins)\n",
    "        ax.bar(bins[0:len(bins)-1], freq, color='#3b5e75')\n",
    "\n",
    "    # Historgram for continuous distribution\n",
    "    elif dist_type.lower() == 'continuous':\n",
    "        ax.hist(dist, bins=bins, color='#3b5e75')\n",
    "\n",
    "    # Specifying plot aesthetics\n",
    "    ax.set_xlabel('Observations', fontsize=15)\n",
    "    ax.set_ylabel('Frequency', fontsize=15)\n",
    "    ax.set_title(f'''{dist_name} distribution''', fontsize=18)\n",
    "    ax.spines['top'].set_visible(False)\n",
    "    ax.spines['right'].set_visible(False)\n",
    "    ax.spines['left'].set_linewidth(0.5)\n",
    "    ax.spines['bottom'].set_linewidth(0.5)\n",
    "\n",
    "    # Vertical line to show sampling distribution mean\n",
    "    plt.axvline(x=np.mean(dist),\n",
    "                label=f'''{dist_name} mean = {np.mean(dist):.3f}''',\n",
    "                c='#a85964')\n",
    "\n",
    "    plt.legend(fontsize=14)\n",
    "    plt.show()"
   ]
  },
  {
   "cell_type": "markdown",
   "id": "5fb4d7c9",
   "metadata": {},
   "source": [
    "## <center>Visualization of The Central Limit Theorem </center>"
   ]
  },
  {
   "cell_type": "markdown",
   "id": "e71af64f",
   "metadata": {},
   "source": [
    "## Choose a real world example"
   ]
  },
  {
   "cell_type": "code",
   "execution_count": 5,
   "id": "b116c5ee",
   "metadata": {},
   "outputs": [
    {
     "data": {
      "application/vnd.jupyter.widget-view+json": {
       "model_id": "4750e79f970e4296b8e612c5f5f13785",
       "version_major": 2,
       "version_minor": 0
      },
      "text/plain": [
       "RadioButtons(description='Select an example:', layout=Layout(height='120px', width='100%'), options=('Rolling …"
      ]
     },
     "metadata": {},
     "output_type": "display_data"
    }
   ],
   "source": [
    "style = {'description_width': 'initial', 'fontsize': '20'}\n",
    "\n",
    "# Inititating the Radiobutton Widget\n",
    "example_choice = widgets.RadioButtons(\n",
    "\n",
    "    # Specifying options for the four different distributions\n",
    "    options=['Rolling a die (Uniform)',\n",
    "             'Number of goals per game in a world cup (Poisson)',\n",
    "             'number of heads in 100 coin tosses (Binomial)',\n",
    "             'Height of adult men in the US (Normal)'\n",
    "             ],\n",
    "\n",
    "    # specifications for the Radiobutton\n",
    "    description='Select an example:',\n",
    "    style=style,\n",
    "    disabled=False,\n",
    "    layout=widgets.Layout(width='100%', height='120px')\n",
    "    )\n",
    "\n",
    "example_choice"
   ]
  },
  {
   "cell_type": "code",
   "execution_count": 6,
   "id": "cc17aac6",
   "metadata": {},
   "outputs": [
    {
     "data": {
      "application/vnd.jupyter.widget-view+json": {
       "model_id": "3bcead22bc0e4e8aa4cf9a32087b1fcd",
       "version_major": 2,
       "version_minor": 0
      },
      "text/plain": [
       "IntSlider(value=10000, continuous_update=False, description='Population Size:', layout=Layout(height='50px', w…"
      ]
     },
     "metadata": {},
     "output_type": "display_data"
    }
   ],
   "source": [
    "# Initiating Slider widget for population Size\n",
    "Pop_size = widgets.IntSlider(\n",
    "    value=10000,\n",
    "\n",
    "    # Range of slider widget\n",
    "    min=0,\n",
    "    max=100000,\n",
    "    step=1,\n",
    "\n",
    "    # Details of the widget\n",
    "    description='Population Size:',\n",
    "    disabled=False,\n",
    "    continuous_update=False,\n",
    "    orientation='horizontal',\n",
    "    readout=True,\n",
    "    readout_format='d',\n",
    "    style=style,\n",
    "    layout=widgets.Layout(width='60%', height='50px')\n",
    ")\n",
    "\n",
    "# Display the Population size slider\n",
    "display(Pop_size)"
   ]
  },
  {
   "cell_type": "code",
   "execution_count": 7,
   "id": "e5d667ff",
   "metadata": {},
   "outputs": [],
   "source": [
    "# Initiating Button to generate Population distribution and plot it.\n",
    "button_pop = widgets.Button(\n",
    "    description='Create population',\n",
    "    disabled=False,\n",
    "    button_style='info',\n",
    "    tooltip='Click me',\n",
    "    layout=widgets.Layout(width='30%', height='50px')\n",
    ")"
   ]
  },
  {
   "cell_type": "code",
   "execution_count": 8,
   "id": "7e939dc2",
   "metadata": {},
   "outputs": [
    {
     "data": {
      "application/vnd.jupyter.widget-view+json": {
       "model_id": "75adf4b133244e28aa4a240c520b7487",
       "version_major": 2,
       "version_minor": 0
      },
      "text/plain": [
       "Button(button_style='info', description='Create population', layout=Layout(height='50px', width='30%'), style=…"
      ]
     },
     "metadata": {},
     "output_type": "display_data"
    },
    {
     "name": "stdout",
     "output_type": "stream",
     "text": [
      "\n",
      "\n",
      "\n",
      "\n"
     ]
    },
    {
     "data": {
      "application/vnd.jupyter.widget-view+json": {
       "model_id": "555e215cd76e4721b95adbd8334d9c56",
       "version_major": 2,
       "version_minor": 0
      },
      "text/plain": [
       "Output()"
      ]
     },
     "metadata": {},
     "output_type": "display_data"
    }
   ],
   "source": [
    "out_pop = widgets.Output()  # Initiate output of Button\n",
    "\n",
    "\n",
    "def create_pop(b):\n",
    "    \"\"\"\n",
    "    This function is triggered when the create population button is pressed.\n",
    "    The population_dist function is called and the plots are presented\n",
    "    \"\"\"\n",
    "    with out_pop:\n",
    "        out_pop.clear_output(True)\n",
    "        population_dist(example_choice.value, Pop_size.value, 1)\n",
    "\n",
    "\n",
    "button_pop.on_click(create_pop)\n",
    "\n",
    "# Displays the Create population button\n",
    "display(button_pop)\n",
    "\n",
    "# displaying the output plot\n",
    "with out_pop:\n",
    "    population_dist(example_choice.value, Pop_size.value, 1)\n",
    "print('\\n\\n\\n')\n",
    "out_pop\n"
   ]
  },
  {
   "cell_type": "markdown",
   "id": "d3b33d9a",
   "metadata": {},
   "source": [
    "## Choose the sampling distribution parameters"
   ]
  },
  {
   "cell_type": "code",
   "execution_count": 9,
   "id": "fa3a3806",
   "metadata": {},
   "outputs": [
    {
     "data": {
      "application/vnd.jupyter.widget-view+json": {
       "model_id": "1c6c163528d44cec884d0aa31b91c7af",
       "version_major": 2,
       "version_minor": 0
      },
      "text/plain": [
       "IntSlider(value=100, continuous_update=False, description='Sample Size:', layout=Layout(height='50px', width='…"
      ]
     },
     "metadata": {},
     "output_type": "display_data"
    }
   ],
   "source": [
    "# Initiating Slider widget for sample Size\n",
    "sample_size = widgets.IntSlider(\n",
    "    value=100,\n",
    "\n",
    "    # Range of slider widget\n",
    "    min=0,\n",
    "    max=1000,\n",
    "    step=1,\n",
    "\n",
    "    # Details of the widget\n",
    "    description='Sample Size:',\n",
    "    disabled=False,\n",
    "    continuous_update=False,\n",
    "    orientation='horizontal',\n",
    "    readout=True,\n",
    "    readout_format='d',\n",
    "    style=style,\n",
    "    layout=widgets.Layout(width='60%', height='50px')\n",
    ")\n",
    "\n",
    "# Display the sample size slider\n",
    "display(sample_size)"
   ]
  },
  {
   "cell_type": "code",
   "execution_count": 10,
   "id": "bf04c956",
   "metadata": {},
   "outputs": [
    {
     "data": {
      "application/vnd.jupyter.widget-view+json": {
       "model_id": "fd8ad890865c43859676083a66a1b68e",
       "version_major": 2,
       "version_minor": 0
      },
      "text/plain": [
       "IntSlider(value=1000, continuous_update=False, description='Number of samples:', layout=Layout(height='50px', …"
      ]
     },
     "metadata": {},
     "output_type": "display_data"
    }
   ],
   "source": [
    "# Initiating Slider widget for number of samples\n",
    "n_samples = widgets.IntSlider(\n",
    "    value=1000,\n",
    "\n",
    "    # Range of slider widget\n",
    "    min=0,\n",
    "    max=10000,\n",
    "    step=1,\n",
    "\n",
    "    # Details of the widget\n",
    "    description='Number of samples:',\n",
    "    disabled=False,\n",
    "    continuous_update=False,\n",
    "    orientation='horizontal',\n",
    "    readout=True,\n",
    "    readout_format='d',\n",
    "    style=style,\n",
    "    layout=widgets.Layout(width='60%', height='50px')\n",
    ")\n",
    "\n",
    "# Display the n_sample slider\n",
    "display(n_samples)"
   ]
  },
  {
   "cell_type": "code",
   "execution_count": 11,
   "id": "42a4e6bb",
   "metadata": {},
   "outputs": [],
   "source": [
    "# Initiating Button to generate Population distribution and plot it.\n",
    "button_sample = widgets.Button(\n",
    "    description='Create sampling distribution',\n",
    "    disabled=False,\n",
    "    button_style='info',\n",
    "    tooltip='Click me',\n",
    "    layout=widgets.Layout(width='30%', height='50px')\n",
    ")"
   ]
  },
  {
   "cell_type": "code",
   "execution_count": 12,
   "id": "9ccb4e7b",
   "metadata": {},
   "outputs": [],
   "source": [
    "out_sample = widgets.Output()  # Initiate output of Button\n",
    "\n",
    "\n",
    "def create_sample(b1):\n",
    "    \"\"\"\n",
    "    This function is triggered when the create sampling distribution\n",
    "    button is pressed. The Sampling_dist function is called and the\n",
    "    plots are presented\n",
    "    \"\"\"\n",
    "    with out_sample:\n",
    "        out_sample.clear_output(True)\n",
    "        pop = population_dist(example_choice.value, Pop_size.value, 0)\n",
    "        Sampling_dist(pop, sample_size.value, n_samples.value)\n",
    "\n",
    "\n",
    "button_sample.on_click(create_sample)"
   ]
  },
  {
   "cell_type": "code",
   "execution_count": 13,
   "id": "ea8bf649",
   "metadata": {},
   "outputs": [
    {
     "data": {
      "application/vnd.jupyter.widget-view+json": {
       "model_id": "9446298f64374f3f831ba327c6eac1db",
       "version_major": 2,
       "version_minor": 0
      },
      "text/plain": [
       "Button(button_style='info', description='Create sampling distribution', layout=Layout(height='50px', width='30…"
      ]
     },
     "metadata": {},
     "output_type": "display_data"
    },
    {
     "name": "stdout",
     "output_type": "stream",
     "text": [
      "\n",
      "\n",
      "\n",
      "\n"
     ]
    },
    {
     "data": {
      "application/vnd.jupyter.widget-view+json": {
       "model_id": "52d54886b9c9427d898fe3e9999bec45",
       "version_major": 2,
       "version_minor": 0
      },
      "text/plain": [
       "Output()"
      ]
     },
     "metadata": {},
     "output_type": "display_data"
    }
   ],
   "source": [
    "# Displays the Create population button\n",
    "display(button_sample)\n",
    "\n",
    "# displaying the output plot\n",
    "with out_sample:\n",
    "    pop = population_dist(example_choice.value, Pop_size.value, 0)\n",
    "    Sampling_dist(pop, sample_size.value, n_samples.value)\n",
    "print('\\n\\n\\n')\n",
    "\n",
    "out_sample"
   ]
  }
 ],
 "metadata": {
  "kernelspec": {
   "display_name": "Python 3",
   "language": "python",
   "name": "python3"
  },
  "language_info": {
   "codemirror_mode": {
    "name": "ipython",
    "version": 3
   },
   "file_extension": ".py",
   "mimetype": "text/x-python",
   "name": "python",
   "nbconvert_exporter": "python",
   "pygments_lexer": "ipython3",
   "version": "3.8.8"
  }
 },
 "nbformat": 4,
 "nbformat_minor": 5
}
